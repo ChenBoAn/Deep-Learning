{
 "cells": [
  {
   "cell_type": "code",
   "execution_count": 1,
   "id": "ca85be2a",
   "metadata": {
    "_cell_guid": "b1076dfc-b9ad-4769-8c92-a6c4dae69d19",
    "_uuid": "8f2839f25d086af736a60e9eeb907d3b93b6e0e5",
    "execution": {
     "iopub.execute_input": "2022-08-12T13:25:47.314223Z",
     "iopub.status.busy": "2022-08-12T13:25:47.313240Z",
     "iopub.status.idle": "2022-08-12T13:25:47.329297Z",
     "shell.execute_reply": "2022-08-12T13:25:47.328028Z"
    },
    "papermill": {
     "duration": 0.026844,
     "end_time": "2022-08-12T13:25:47.332587",
     "exception": false,
     "start_time": "2022-08-12T13:25:47.305743",
     "status": "completed"
    },
    "tags": []
   },
   "outputs": [],
   "source": [
    "# This Python 3 environment comes with many helpful analytics libraries installed\n",
    "# It is defined by the kaggle/python Docker image: https://github.com/kaggle/docker-python\n",
    "# For example, here's several helpful packages to load\n",
    "\n",
    "import numpy as np # linear algebra\n",
    "import pandas as pd # data processing, CSV file I/O (e.g. pd.read_csv)\n",
    "\n",
    "# Input data files are available in the read-only \"../input/\" directory\n",
    "# For example, running this (by clicking run or pressing Shift+Enter) will list all files under the input directory\n",
    "\n",
    "import os\n",
    "for dirname, _, filenames in os.walk('/kaggle/input'):\n",
    "    for filename in filenames:\n",
    "        print(os.path.join(dirname, filename))\n",
    "\n",
    "# You can write up to 20GB to the current directory (/kaggle/working/) that gets preserved as output when you create a version using \"Save & Run All\" \n",
    "# You can also write temporary files to /kaggle/temp/, but they won't be saved outside of the current session"
   ]
  },
  {
   "cell_type": "code",
   "execution_count": 2,
   "id": "45fef7c6",
   "metadata": {
    "execution": {
     "iopub.execute_input": "2022-08-12T13:25:47.343853Z",
     "iopub.status.busy": "2022-08-12T13:25:47.343083Z",
     "iopub.status.idle": "2022-08-12T13:25:54.913248Z",
     "shell.execute_reply": "2022-08-12T13:25:54.911968Z"
    },
    "papermill": {
     "duration": 7.57885,
     "end_time": "2022-08-12T13:25:54.916183",
     "exception": false,
     "start_time": "2022-08-12T13:25:47.337333",
     "status": "completed"
    },
    "tags": []
   },
   "outputs": [],
   "source": [
    "from tensorflow import keras\n",
    "from tensorflow.keras import layers\n",
    "from tensorflow.keras import models"
   ]
  },
  {
   "cell_type": "code",
   "execution_count": 3,
   "id": "87fc019c",
   "metadata": {
    "execution": {
     "iopub.execute_input": "2022-08-12T13:25:54.927341Z",
     "iopub.status.busy": "2022-08-12T13:25:54.926085Z",
     "iopub.status.idle": "2022-08-12T13:25:55.085477Z",
     "shell.execute_reply": "2022-08-12T13:25:55.084216Z"
    },
    "papermill": {
     "duration": 0.168139,
     "end_time": "2022-08-12T13:25:55.088660",
     "exception": false,
     "start_time": "2022-08-12T13:25:54.920521",
     "status": "completed"
    },
    "tags": []
   },
   "outputs": [
    {
     "name": "stderr",
     "output_type": "stream",
     "text": [
      "2022-08-12 13:25:54.980954: I tensorflow/core/common_runtime/process_util.cc:146] Creating new thread pool with default inter op setting: 2. Tune using inter_op_parallelism_threads for best performance.\n"
     ]
    }
   ],
   "source": [
    "model = models.Sequential([\n",
    "    layers.Conv2D(32, (3, 3), activation='relu', input_shape=(28, 28, 1)), #Conv2D層\n",
    "            #過濾器(卷積核)數量, 過濾器(卷積核)長寬, input_shape=(image_height, image_weight, image_channels) 此處不包含批次維度\n",
    "    layers.MaxPooling2D((2, 2)), #MaxPooling2D層\n",
    "    layers.Conv2D(64, (3, 3), activation='relu'),\n",
    "    layers.MaxPooling2D((2, 2)),\n",
    "    layers.Conv2D(64, (3, 3), activation='relu')\n",
    "])"
   ]
  },
  {
   "cell_type": "code",
   "execution_count": 4,
   "id": "7493fad3",
   "metadata": {
    "execution": {
     "iopub.execute_input": "2022-08-12T13:25:55.100455Z",
     "iopub.status.busy": "2022-08-12T13:25:55.100008Z",
     "iopub.status.idle": "2022-08-12T13:25:55.108325Z",
     "shell.execute_reply": "2022-08-12T13:25:55.106990Z"
    },
    "papermill": {
     "duration": 0.016711,
     "end_time": "2022-08-12T13:25:55.110737",
     "exception": false,
     "start_time": "2022-08-12T13:25:55.094026",
     "status": "completed"
    },
    "tags": []
   },
   "outputs": [
    {
     "name": "stdout",
     "output_type": "stream",
     "text": [
      "Model: \"sequential\"\n",
      "_________________________________________________________________\n",
      "Layer (type)                 Output Shape              Param #   \n",
      "=================================================================\n",
      "conv2d (Conv2D)              (None, 26, 26, 32)        320       \n",
      "_________________________________________________________________\n",
      "max_pooling2d (MaxPooling2D) (None, 13, 13, 32)        0         \n",
      "_________________________________________________________________\n",
      "conv2d_1 (Conv2D)            (None, 11, 11, 64)        18496     \n",
      "_________________________________________________________________\n",
      "max_pooling2d_1 (MaxPooling2 (None, 5, 5, 64)          0         \n",
      "_________________________________________________________________\n",
      "conv2d_2 (Conv2D)            (None, 3, 3, 64)          36928     \n",
      "=================================================================\n",
      "Total params: 55,744\n",
      "Trainable params: 55,744\n",
      "Non-trainable params: 0\n",
      "_________________________________________________________________\n"
     ]
    }
   ],
   "source": [
    "model.summary()\n",
    "#Param(參數) = 過濾器長 * 寬 * 通道數 * 過濾器個數 + 過濾器個數 "
   ]
  },
  {
   "cell_type": "code",
   "execution_count": 5,
   "id": "2363acad",
   "metadata": {
    "execution": {
     "iopub.execute_input": "2022-08-12T13:25:55.121691Z",
     "iopub.status.busy": "2022-08-12T13:25:55.121251Z",
     "iopub.status.idle": "2022-08-12T13:25:55.153203Z",
     "shell.execute_reply": "2022-08-12T13:25:55.151993Z"
    },
    "papermill": {
     "duration": 0.040921,
     "end_time": "2022-08-12T13:25:55.156246",
     "exception": false,
     "start_time": "2022-08-12T13:25:55.115325",
     "status": "completed"
    },
    "tags": []
   },
   "outputs": [],
   "source": [
    "#在卷積神經網路加上分類器\n",
    "#最後一個Conv2D層輸出的3D張量(shape=(3,3,64))，須送至分類器神經網路(Dense密集層)，但僅能處理1D張量，因此需將其展平\n",
    "model.add(layers.Flatten()) #3D張量展平為1D張量，shape=(576,)\n",
    "model.add(layers.Dense(64, activation='relu'))\n",
    "model.add(layers.Dense(10, activation='softmax')) #具有10個輸出的輸出層"
   ]
  },
  {
   "cell_type": "code",
   "execution_count": 6,
   "id": "ee675df6",
   "metadata": {
    "execution": {
     "iopub.execute_input": "2022-08-12T13:25:55.166918Z",
     "iopub.status.busy": "2022-08-12T13:25:55.166502Z",
     "iopub.status.idle": "2022-08-12T13:25:55.177083Z",
     "shell.execute_reply": "2022-08-12T13:25:55.175139Z"
    },
    "papermill": {
     "duration": 0.020086,
     "end_time": "2022-08-12T13:25:55.180778",
     "exception": false,
     "start_time": "2022-08-12T13:25:55.160692",
     "status": "completed"
    },
    "tags": []
   },
   "outputs": [
    {
     "name": "stdout",
     "output_type": "stream",
     "text": [
      "Model: \"sequential\"\n",
      "_________________________________________________________________\n",
      "Layer (type)                 Output Shape              Param #   \n",
      "=================================================================\n",
      "conv2d (Conv2D)              (None, 26, 26, 32)        320       \n",
      "_________________________________________________________________\n",
      "max_pooling2d (MaxPooling2D) (None, 13, 13, 32)        0         \n",
      "_________________________________________________________________\n",
      "conv2d_1 (Conv2D)            (None, 11, 11, 64)        18496     \n",
      "_________________________________________________________________\n",
      "max_pooling2d_1 (MaxPooling2 (None, 5, 5, 64)          0         \n",
      "_________________________________________________________________\n",
      "conv2d_2 (Conv2D)            (None, 3, 3, 64)          36928     \n",
      "_________________________________________________________________\n",
      "flatten (Flatten)            (None, 576)               0         \n",
      "_________________________________________________________________\n",
      "dense (Dense)                (None, 64)                36928     \n",
      "_________________________________________________________________\n",
      "dense_1 (Dense)              (None, 10)                650       \n",
      "=================================================================\n",
      "Total params: 93,322\n",
      "Trainable params: 93,322\n",
      "Non-trainable params: 0\n",
      "_________________________________________________________________\n"
     ]
    }
   ],
   "source": [
    "model.summary()"
   ]
  },
  {
   "cell_type": "code",
   "execution_count": 7,
   "id": "41f07f88",
   "metadata": {
    "execution": {
     "iopub.execute_input": "2022-08-12T13:25:55.192393Z",
     "iopub.status.busy": "2022-08-12T13:25:55.191950Z",
     "iopub.status.idle": "2022-08-12T13:25:55.197575Z",
     "shell.execute_reply": "2022-08-12T13:25:55.196302Z"
    },
    "papermill": {
     "duration": 0.014798,
     "end_time": "2022-08-12T13:25:55.200501",
     "exception": false,
     "start_time": "2022-08-12T13:25:55.185703",
     "status": "completed"
    },
    "tags": []
   },
   "outputs": [],
   "source": [
    "#用MNIST影像訓練卷積神經網路\n",
    "from keras.datasets import mnist\n",
    "from keras.utils.np_utils import to_categorical"
   ]
  },
  {
   "cell_type": "code",
   "execution_count": 8,
   "id": "bcf8fa09",
   "metadata": {
    "execution": {
     "iopub.execute_input": "2022-08-12T13:25:55.212183Z",
     "iopub.status.busy": "2022-08-12T13:25:55.211764Z",
     "iopub.status.idle": "2022-08-12T13:25:55.787215Z",
     "shell.execute_reply": "2022-08-12T13:25:55.785455Z"
    },
    "papermill": {
     "duration": 0.585382,
     "end_time": "2022-08-12T13:25:55.790718",
     "exception": false,
     "start_time": "2022-08-12T13:25:55.205336",
     "status": "completed"
    },
    "tags": []
   },
   "outputs": [
    {
     "name": "stdout",
     "output_type": "stream",
     "text": [
      "Downloading data from https://storage.googleapis.com/tensorflow/tf-keras-datasets/mnist.npz\n",
      "11493376/11490434 [==============================] - 0s 0us/step\n",
      "11501568/11490434 [==============================] - 0s 0us/step\n"
     ]
    }
   ],
   "source": [
    "(train_images, train_labels), (test_images, test_labels) = mnist.load_data()"
   ]
  },
  {
   "cell_type": "code",
   "execution_count": 9,
   "id": "9943b6aa",
   "metadata": {
    "execution": {
     "iopub.execute_input": "2022-08-12T13:25:55.803165Z",
     "iopub.status.busy": "2022-08-12T13:25:55.802699Z",
     "iopub.status.idle": "2022-08-12T13:25:55.924476Z",
     "shell.execute_reply": "2022-08-12T13:25:55.923333Z"
    },
    "papermill": {
     "duration": 0.131655,
     "end_time": "2022-08-12T13:25:55.927496",
     "exception": false,
     "start_time": "2022-08-12T13:25:55.795841",
     "status": "completed"
    },
    "tags": []
   },
   "outputs": [],
   "source": [
    "train_images = train_images.reshape((60000, 28, 28, 1))\n",
    "train_images = train_images.astype('float32') / 255\n",
    "\n",
    "test_images = test_images.reshape((10000, 28, 28, 1))\n",
    "test_images = test_images.astype('float32') / 255"
   ]
  },
  {
   "cell_type": "code",
   "execution_count": 10,
   "id": "b5b04f95",
   "metadata": {
    "execution": {
     "iopub.execute_input": "2022-08-12T13:25:55.939580Z",
     "iopub.status.busy": "2022-08-12T13:25:55.939150Z",
     "iopub.status.idle": "2022-08-12T13:25:55.948773Z",
     "shell.execute_reply": "2022-08-12T13:25:55.947200Z"
    },
    "papermill": {
     "duration": 0.019156,
     "end_time": "2022-08-12T13:25:55.951992",
     "exception": false,
     "start_time": "2022-08-12T13:25:55.932836",
     "status": "completed"
    },
    "tags": []
   },
   "outputs": [],
   "source": [
    "train_labels = to_categorical(train_labels)\n",
    "test_labels = to_categorical(test_labels) "
   ]
  },
  {
   "cell_type": "code",
   "execution_count": 11,
   "id": "e112f33d",
   "metadata": {
    "execution": {
     "iopub.execute_input": "2022-08-12T13:25:55.963915Z",
     "iopub.status.busy": "2022-08-12T13:25:55.963511Z",
     "iopub.status.idle": "2022-08-12T13:25:55.978702Z",
     "shell.execute_reply": "2022-08-12T13:25:55.977468Z"
    },
    "papermill": {
     "duration": 0.024771,
     "end_time": "2022-08-12T13:25:55.981759",
     "exception": false,
     "start_time": "2022-08-12T13:25:55.956988",
     "status": "completed"
    },
    "tags": []
   },
   "outputs": [],
   "source": [
    "model.compile(optimizer='rmsprop',\n",
    "             loss='categorical_crossentropy',\n",
    "             metrics=['accuracy'])"
   ]
  },
  {
   "cell_type": "code",
   "execution_count": 12,
   "id": "c30fff9d",
   "metadata": {
    "execution": {
     "iopub.execute_input": "2022-08-12T13:25:55.993245Z",
     "iopub.status.busy": "2022-08-12T13:25:55.992817Z",
     "iopub.status.idle": "2022-08-12T13:27:40.371483Z",
     "shell.execute_reply": "2022-08-12T13:27:40.370144Z"
    },
    "papermill": {
     "duration": 104.387625,
     "end_time": "2022-08-12T13:27:40.374168",
     "exception": false,
     "start_time": "2022-08-12T13:25:55.986543",
     "status": "completed"
    },
    "tags": []
   },
   "outputs": [
    {
     "name": "stderr",
     "output_type": "stream",
     "text": [
      "2022-08-12 13:25:56.475104: I tensorflow/compiler/mlir/mlir_graph_optimization_pass.cc:185] None of the MLIR Optimization Passes are enabled (registered 2)\n"
     ]
    },
    {
     "name": "stdout",
     "output_type": "stream",
     "text": [
      "Epoch 1/5\n",
      "938/938 [==============================] - 21s 22ms/step - loss: 0.1749 - accuracy: 0.9441\n",
      "Epoch 2/5\n",
      "938/938 [==============================] - 20s 22ms/step - loss: 0.0456 - accuracy: 0.9863\n",
      "Epoch 3/5\n",
      "938/938 [==============================] - 21s 22ms/step - loss: 0.0319 - accuracy: 0.9905\n",
      "Epoch 4/5\n",
      "938/938 [==============================] - 20s 21ms/step - loss: 0.0241 - accuracy: 0.9930\n",
      "Epoch 5/5\n",
      "938/938 [==============================] - 22s 23ms/step - loss: 0.0190 - accuracy: 0.9943\n"
     ]
    },
    {
     "data": {
      "text/plain": [
       "<keras.callbacks.History at 0x7fd5d9677f50>"
      ]
     },
     "execution_count": 12,
     "metadata": {},
     "output_type": "execute_result"
    }
   ],
   "source": [
    "model.fit(train_images, train_labels,\n",
    "          epochs=5,\n",
    "          batch_size=64)"
   ]
  },
  {
   "cell_type": "code",
   "execution_count": 13,
   "id": "00a51efb",
   "metadata": {
    "execution": {
     "iopub.execute_input": "2022-08-12T13:27:40.595794Z",
     "iopub.status.busy": "2022-08-12T13:27:40.594951Z",
     "iopub.status.idle": "2022-08-12T13:27:43.432495Z",
     "shell.execute_reply": "2022-08-12T13:27:43.431372Z"
    },
    "papermill": {
     "duration": 2.953074,
     "end_time": "2022-08-12T13:27:43.435308",
     "exception": false,
     "start_time": "2022-08-12T13:27:40.482234",
     "status": "completed"
    },
    "tags": []
   },
   "outputs": [
    {
     "name": "stdout",
     "output_type": "stream",
     "text": [
      "313/313 [==============================] - 2s 6ms/step - loss: 0.0346 - accuracy: 0.9897\n"
     ]
    }
   ],
   "source": [
    "test_loss, test_acc = model.evaluate(test_images, test_labels)"
   ]
  },
  {
   "cell_type": "code",
   "execution_count": 14,
   "id": "7f4d5983",
   "metadata": {
    "execution": {
     "iopub.execute_input": "2022-08-12T13:27:43.655159Z",
     "iopub.status.busy": "2022-08-12T13:27:43.654357Z",
     "iopub.status.idle": "2022-08-12T13:27:43.660952Z",
     "shell.execute_reply": "2022-08-12T13:27:43.659764Z"
    },
    "papermill": {
     "duration": 0.11976,
     "end_time": "2022-08-12T13:27:43.663448",
     "exception": false,
     "start_time": "2022-08-12T13:27:43.543688",
     "status": "completed"
    },
    "tags": []
   },
   "outputs": [
    {
     "data": {
      "text/plain": [
       "0.9897000193595886"
      ]
     },
     "execution_count": 14,
     "metadata": {},
     "output_type": "execute_result"
    }
   ],
   "source": [
    "test_acc"
   ]
  }
 ],
 "metadata": {
  "kernelspec": {
   "display_name": "Python 3.10.3 64-bit",
   "language": "python",
   "name": "python3"
  },
  "language_info": {
   "codemirror_mode": {
    "name": "ipython",
    "version": 3
   },
   "file_extension": ".py",
   "mimetype": "text/x-python",
   "name": "python",
   "nbconvert_exporter": "python",
   "pygments_lexer": "ipython3",
   "version": "3.10.3"
  },
  "papermill": {
   "default_parameters": {},
   "duration": 129.318478,
   "end_time": "2022-08-12T13:27:46.824899",
   "environment_variables": {},
   "exception": null,
   "input_path": "__notebook__.ipynb",
   "output_path": "__notebook__.ipynb",
   "parameters": {},
   "start_time": "2022-08-12T13:25:37.506421",
   "version": "2.3.4"
  },
  "vscode": {
   "interpreter": {
    "hash": "369f2c481f4da34e4445cda3fffd2e751bd1c4d706f27375911949ba6bb62e1c"
   }
  }
 },
 "nbformat": 4,
 "nbformat_minor": 5
}
