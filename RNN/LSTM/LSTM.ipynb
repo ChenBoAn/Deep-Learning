{
 "cells": [
  {
   "cell_type": "code",
   "execution_count": 1,
   "id": "7fd85589",
   "metadata": {
    "_cell_guid": "b1076dfc-b9ad-4769-8c92-a6c4dae69d19",
    "_uuid": "8f2839f25d086af736a60e9eeb907d3b93b6e0e5",
    "execution": {
     "iopub.execute_input": "2022-08-24T15:59:49.326763Z",
     "iopub.status.busy": "2022-08-24T15:59:49.326135Z",
     "iopub.status.idle": "2022-08-24T15:59:49.341346Z",
     "shell.execute_reply": "2022-08-24T15:59:49.340374Z"
    },
    "papermill": {
     "duration": 0.023895,
     "end_time": "2022-08-24T15:59:49.343836",
     "exception": false,
     "start_time": "2022-08-24T15:59:49.319941",
     "status": "completed"
    },
    "tags": []
   },
   "outputs": [],
   "source": [
    "# This Python 3 environment comes with many helpful analytics libraries installed\n",
    "# It is defined by the kaggle/python Docker image: https://github.com/kaggle/docker-python\n",
    "# For example, here's several helpful packages to load\n",
    "\n",
    "import numpy as np # linear algebra\n",
    "import pandas as pd # data processing, CSV file I/O (e.g. pd.read_csv)\n",
    "\n",
    "# Input data files are available in the read-only \"../input/\" directory\n",
    "# For example, running this (by clicking run or pressing Shift+Enter) will list all files under the input directory\n",
    "\n",
    "import os\n",
    "for dirname, _, filenames in os.walk('/kaggle/input'):\n",
    "    for filename in filenames:\n",
    "        print(os.path.join(dirname, filename))\n",
    "\n",
    "# You can write up to 20GB to the current directory (/kaggle/working/) that gets preserved as output when you create a version using \"Save & Run All\" \n",
    "# You can also write temporary files to /kaggle/temp/, but they won't be saved outside of the current session"
   ]
  },
  {
   "cell_type": "code",
   "execution_count": 2,
   "id": "878f6c7a",
   "metadata": {
    "execution": {
     "iopub.execute_input": "2022-08-24T15:59:49.351843Z",
     "iopub.status.busy": "2022-08-24T15:59:49.351473Z",
     "iopub.status.idle": "2022-08-24T15:59:49.355391Z",
     "shell.execute_reply": "2022-08-24T15:59:49.354410Z"
    },
    "papermill": {
     "duration": 0.010483,
     "end_time": "2022-08-24T15:59:49.357640",
     "exception": false,
     "start_time": "2022-08-24T15:59:49.347157",
     "status": "completed"
    },
    "tags": []
   },
   "outputs": [],
   "source": [
    "#由於存在梯度消失的問題，在實務中，SimpleRNN無法完整保留時間點以前的所有資訊\n",
    "#LSTM(Long Short-Term Memory)長期短期記憶\n",
    "#增加了一種跨多個時間點承載資訊的方法，允許之後重新注入過去的資訊，從而解決梯度消失的問題"
   ]
  },
  {
   "cell_type": "code",
   "execution_count": 3,
   "id": "5081d062",
   "metadata": {
    "execution": {
     "iopub.execute_input": "2022-08-24T15:59:49.365281Z",
     "iopub.status.busy": "2022-08-24T15:59:49.364919Z",
     "iopub.status.idle": "2022-08-24T15:59:55.863417Z",
     "shell.execute_reply": "2022-08-24T15:59:55.862384Z"
    },
    "papermill": {
     "duration": 6.505391,
     "end_time": "2022-08-24T15:59:55.866028",
     "exception": false,
     "start_time": "2022-08-24T15:59:49.360637",
     "status": "completed"
    },
    "tags": []
   },
   "outputs": [],
   "source": [
    "from tensorflow import keras\n",
    "from tensorflow.keras import models, layers"
   ]
  },
  {
   "cell_type": "code",
   "execution_count": 4,
   "id": "ef8b8381",
   "metadata": {
    "execution": {
     "iopub.execute_input": "2022-08-24T15:59:55.874061Z",
     "iopub.status.busy": "2022-08-24T15:59:55.873429Z",
     "iopub.status.idle": "2022-08-24T16:00:02.793992Z",
     "shell.execute_reply": "2022-08-24T16:00:02.792344Z"
    },
    "papermill": {
     "duration": 6.928603,
     "end_time": "2022-08-24T16:00:02.797670",
     "exception": false,
     "start_time": "2022-08-24T15:59:55.869067",
     "status": "completed"
    },
    "tags": []
   },
   "outputs": [
    {
     "name": "stdout",
     "output_type": "stream",
     "text": [
      "Downloading data from https://storage.googleapis.com/tensorflow/tf-keras-datasets/imdb.npz\n",
      "17465344/17464789 [==============================] - 0s 0us/step\n",
      "17473536/17464789 [==============================] - 0s 0us/step\n",
      "train_sequences: 25000\n",
      "test_sequences: 25000\n",
      "input_train shape: (25000, 500)\n",
      "input_test shape: (25000, 500)\n"
     ]
    }
   ],
   "source": [
    "#準備IMDB資料\n",
    "from keras.datasets import imdb\n",
    "from tensorflow.keras.preprocessing import sequence\n",
    "\n",
    "max_features = 10000 #考慮做為特徵的文字數量\n",
    "maxlen = 500 #只看評論的前500個文字\n",
    "\n",
    "batch_size = 32\n",
    "\n",
    "(input_train, y_train), (input_test, y_test) = imdb.load_data(num_words=max_features)\n",
    "print('train_sequences:', len(input_train))\n",
    "print('test_sequences:', len(input_test))\n",
    "\n",
    "input_train = sequence.pad_sequences(input_train, maxlen=maxlen) #只看每篇評論前500個字，多的去除，不足填補0\n",
    "input_test = sequence.pad_sequences(input_test, maxlen=maxlen)\n",
    "print('input_train shape:', input_train.shape)\n",
    "print('input_test shape:', input_test.shape)"
   ]
  },
  {
   "cell_type": "code",
   "execution_count": 5,
   "id": "3b18d440",
   "metadata": {
    "execution": {
     "iopub.execute_input": "2022-08-24T16:00:02.807252Z",
     "iopub.status.busy": "2022-08-24T16:00:02.806494Z",
     "iopub.status.idle": "2022-08-24T16:00:03.222950Z",
     "shell.execute_reply": "2022-08-24T16:00:03.221769Z"
    },
    "papermill": {
     "duration": 0.423954,
     "end_time": "2022-08-24T16:00:03.225724",
     "exception": false,
     "start_time": "2022-08-24T16:00:02.801770",
     "status": "completed"
    },
    "tags": []
   },
   "outputs": [
    {
     "name": "stderr",
     "output_type": "stream",
     "text": [
      "2022-08-24 16:00:02.843744: I tensorflow/core/common_runtime/process_util.cc:146] Creating new thread pool with default inter op setting: 2. Tune using inter_op_parallelism_threads for best performance.\n"
     ]
    }
   ],
   "source": [
    "#使用LSTM層\n",
    "model = models.Sequential()\n",
    "model.add(layers.Embedding(max_features, 32))\n",
    "model.add(layers.LSTM(32))\n",
    "model.add(layers.Dense(1, activation='sigmoid'))"
   ]
  },
  {
   "cell_type": "code",
   "execution_count": 6,
   "id": "33522045",
   "metadata": {
    "execution": {
     "iopub.execute_input": "2022-08-24T16:00:03.234447Z",
     "iopub.status.busy": "2022-08-24T16:00:03.234012Z",
     "iopub.status.idle": "2022-08-24T16:00:03.247555Z",
     "shell.execute_reply": "2022-08-24T16:00:03.246389Z"
    },
    "papermill": {
     "duration": 0.021048,
     "end_time": "2022-08-24T16:00:03.250426",
     "exception": false,
     "start_time": "2022-08-24T16:00:03.229378",
     "status": "completed"
    },
    "tags": []
   },
   "outputs": [],
   "source": [
    "model.compile(optimizer='rmsprop',\n",
    "             loss='binary_crossentropy',\n",
    "             metrics=['acc'])"
   ]
  },
  {
   "cell_type": "code",
   "execution_count": 7,
   "id": "075110f4",
   "metadata": {
    "execution": {
     "iopub.execute_input": "2022-08-24T16:00:03.259729Z",
     "iopub.status.busy": "2022-08-24T16:00:03.258990Z",
     "iopub.status.idle": "2022-08-24T16:13:27.235225Z",
     "shell.execute_reply": "2022-08-24T16:13:27.233888Z"
    },
    "papermill": {
     "duration": 803.984023,
     "end_time": "2022-08-24T16:13:27.238114",
     "exception": false,
     "start_time": "2022-08-24T16:00:03.254091",
     "status": "completed"
    },
    "tags": []
   },
   "outputs": [
    {
     "name": "stderr",
     "output_type": "stream",
     "text": [
      "2022-08-24 16:00:03.353077: I tensorflow/compiler/mlir/mlir_graph_optimization_pass.cc:185] None of the MLIR Optimization Passes are enabled (registered 2)\n"
     ]
    },
    {
     "name": "stdout",
     "output_type": "stream",
     "text": [
      "Epoch 1/10\n",
      "157/157 [==============================] - 83s 512ms/step - loss: 0.5408 - acc: 0.7447 - val_loss: 0.4308 - val_acc: 0.7972\n",
      "Epoch 2/10\n",
      "157/157 [==============================] - 80s 507ms/step - loss: 0.3085 - acc: 0.8775 - val_loss: 0.2967 - val_acc: 0.8780\n",
      "Epoch 3/10\n",
      "157/157 [==============================] - 79s 504ms/step - loss: 0.2390 - acc: 0.9111 - val_loss: 0.3221 - val_acc: 0.8610\n",
      "Epoch 4/10\n",
      "157/157 [==============================] - 80s 507ms/step - loss: 0.2045 - acc: 0.9233 - val_loss: 0.2842 - val_acc: 0.8856\n",
      "Epoch 5/10\n",
      "157/157 [==============================] - 79s 504ms/step - loss: 0.1793 - acc: 0.9349 - val_loss: 0.2872 - val_acc: 0.8852\n",
      "Epoch 6/10\n",
      "157/157 [==============================] - 79s 504ms/step - loss: 0.1590 - acc: 0.9431 - val_loss: 0.3314 - val_acc: 0.8730\n",
      "Epoch 7/10\n",
      "157/157 [==============================] - 79s 502ms/step - loss: 0.1436 - acc: 0.9494 - val_loss: 0.3950 - val_acc: 0.8838\n",
      "Epoch 8/10\n",
      "157/157 [==============================] - 79s 505ms/step - loss: 0.1319 - acc: 0.9541 - val_loss: 0.3750 - val_acc: 0.8444\n",
      "Epoch 9/10\n",
      "157/157 [==============================] - 79s 500ms/step - loss: 0.1240 - acc: 0.9574 - val_loss: 0.3590 - val_acc: 0.8866\n",
      "Epoch 10/10\n",
      "157/157 [==============================] - 78s 499ms/step - loss: 0.1110 - acc: 0.9613 - val_loss: 0.4528 - val_acc: 0.8272\n"
     ]
    }
   ],
   "source": [
    "history = model.fit(input_train, y_train,\n",
    "                   epochs=10,\n",
    "                   batch_size=128,\n",
    "                   validation_split=0.2)"
   ]
  },
  {
   "cell_type": "code",
   "execution_count": 8,
   "id": "f5c1c6cf",
   "metadata": {
    "execution": {
     "iopub.execute_input": "2022-08-24T16:13:27.439424Z",
     "iopub.status.busy": "2022-08-24T16:13:27.438943Z",
     "iopub.status.idle": "2022-08-24T16:13:27.830084Z",
     "shell.execute_reply": "2022-08-24T16:13:27.828738Z"
    },
    "papermill": {
     "duration": 0.495203,
     "end_time": "2022-08-24T16:13:27.832671",
     "exception": false,
     "start_time": "2022-08-24T16:13:27.337468",
     "status": "completed"
    },
    "tags": []
   },
   "outputs": [
    {
     "data": {
      "image/png": "[encoded data removed]",
      "text/plain": [
       "<Figure size 432x288 with 1 Axes>"
      ]
     },
     "metadata": {
      "needs_background": "light"
     },
     "output_type": "display_data"
    },
    {
     "data": {
      "image/png": "[encoded data removed]",
      "text/plain": [
       "<Figure size 432x288 with 1 Axes>"
      ]
     },
     "metadata": {
      "needs_background": "light"
     },
     "output_type": "display_data"
    }
   ],
   "source": [
    "#繪製結果\n",
    "import matplotlib.pyplot as plt\n",
    "\n",
    "acc = history.history['acc']\n",
    "val_acc = history.history['val_acc']\n",
    "loss = history.history['loss']\n",
    "val_loss = history.history['val_loss']\n",
    "\n",
    "epochs = range(1, len(acc) + 1)\n",
    "\n",
    "plt.plot(epochs, acc, 'bo', label='Training acc')\n",
    "plt.plot(epochs, val_acc, 'b', label='Validation acc')\n",
    "plt.title('Training and validation accuracy')\n",
    "plt.legend()\n",
    "\n",
    "plt.figure()\n",
    "\n",
    "plt.plot(epochs, loss, 'bo', label='Training loss')\n",
    "plt.plot(epochs, val_loss, 'b', label='Validation loss')\n",
    "plt.title('Training and validation loss')\n",
    "plt.legend()\n",
    "\n",
    "plt.show()"
   ]
  }
 ],
 "metadata": {
  "kernelspec": {
   "display_name": "Python 3",
   "language": "python",
   "name": "python3"
  },
  "language_info": {
   "codemirror_mode": {
    "name": "ipython",
    "version": 3
   },
   "file_extension": ".py",
   "mimetype": "text/x-python",
   "name": "python",
   "nbconvert_exporter": "python",
   "pygments_lexer": "ipython3",
   "version": "3.7.12"
  },
  "papermill": {
   "default_parameters": {},
   "duration": 830.499136,
   "end_time": "2022-08-24T16:13:31.068571",
   "environment_variables": {},
   "exception": null,
   "input_path": "__notebook__.ipynb",
   "output_path": "__notebook__.ipynb",
   "parameters": {},
   "start_time": "2022-08-24T15:59:40.569435",
   "version": "2.3.4"
  }
 },
 "nbformat": 4,
 "nbformat_minor": 5
}
