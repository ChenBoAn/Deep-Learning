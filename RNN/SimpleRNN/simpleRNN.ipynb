{
 "cells": [
  {
   "cell_type": "code",
   "execution_count": 1,
   "id": "9a0af992",
   "metadata": {
    "_cell_guid": "b1076dfc-b9ad-4769-8c92-a6c4dae69d19",
    "_uuid": "8f2839f25d086af736a60e9eeb907d3b93b6e0e5",
    "execution": {
     "iopub.execute_input": "2022-08-24T13:17:33.044913Z",
     "iopub.status.busy": "2022-08-24T13:17:33.043610Z",
     "iopub.status.idle": "2022-08-24T13:17:33.061603Z",
     "shell.execute_reply": "2022-08-24T13:17:33.060617Z"
    },
    "papermill": {
     "duration": 0.02728,
     "end_time": "2022-08-24T13:17:33.064541",
     "exception": false,
     "start_time": "2022-08-24T13:17:33.037261",
     "status": "completed"
    },
    "tags": []
   },
   "outputs": [],
   "source": [
    "# This Python 3 environment comes with many helpful analytics libraries installed\n",
    "# It is defined by the kaggle/python Docker image: https://github.com/kaggle/docker-python\n",
    "# For example, here's several helpful packages to load\n",
    "\n",
    "import numpy as np # linear algebra\n",
    "import pandas as pd # data processing, CSV file I/O (e.g. pd.read_csv)\n",
    "\n",
    "# Input data files are available in the read-only \"../input/\" directory\n",
    "# For example, running this (by clicking run or pressing Shift+Enter) will list all files under the input directory\n",
    "\n",
    "import os\n",
    "for dirname, _, filenames in os.walk('/kaggle/input'):\n",
    "    for filename in filenames:\n",
    "        print(os.path.join(dirname, filename))\n",
    "\n",
    "# You can write up to 20GB to the current directory (/kaggle/working/) that gets preserved as output when you create a version using \"Save & Run All\" \n",
    "# You can also write temporary files to /kaggle/temp/, but they won't be saved outside of the current session"
   ]
  },
  {
   "cell_type": "code",
   "execution_count": 2,
   "id": "71a049e3",
   "metadata": {
    "execution": {
     "iopub.execute_input": "2022-08-24T13:17:33.074988Z",
     "iopub.status.busy": "2022-08-24T13:17:33.074132Z",
     "iopub.status.idle": "2022-08-24T13:17:41.189087Z",
     "shell.execute_reply": "2022-08-24T13:17:41.187265Z"
    },
    "papermill": {
     "duration": 8.123336,
     "end_time": "2022-08-24T13:17:41.191999",
     "exception": false,
     "start_time": "2022-08-24T13:17:33.068663",
     "status": "completed"
    },
    "tags": []
   },
   "outputs": [],
   "source": [
    "#SimpleRNN處理批次量的序列資料，需輸入3D向量，shape=(batch_size 批次量大小, timesteps 時間點數量, input_features 輸入特徵)\n",
    "#可回傳 1.每個時間點的連續輸出的完整序列資料(3D張量，shape=(batch_size 批次量大小, timesteps 時間點數量, input_features 輸入特徵))\n",
    "#      2.對每個輸入序列資料的最後一個輸出(2D張量，shape=(batch_size 批次量大小, input_features 輸入特徵))\n",
    "#這兩種方式由參數return_sequences控制\n",
    "from tensorflow import keras\n",
    "from tensorflow.keras import models, layers"
   ]
  },
  {
   "cell_type": "code",
   "execution_count": 3,
   "id": "a4b3e8d4",
   "metadata": {
    "execution": {
     "iopub.execute_input": "2022-08-24T13:17:41.202645Z",
     "iopub.status.busy": "2022-08-24T13:17:41.201906Z",
     "iopub.status.idle": "2022-08-24T13:17:41.628134Z",
     "shell.execute_reply": "2022-08-24T13:17:41.626286Z"
    },
    "papermill": {
     "duration": 0.434635,
     "end_time": "2022-08-24T13:17:41.630752",
     "exception": false,
     "start_time": "2022-08-24T13:17:41.196117",
     "status": "completed"
    },
    "tags": []
   },
   "outputs": [
    {
     "name": "stderr",
     "output_type": "stream",
     "text": [
      "2022-08-24 13:17:41.243467: I tensorflow/core/common_runtime/process_util.cc:146] Creating new thread pool with default inter op setting: 2. Tune using inter_op_parallelism_threads for best performance.\n"
     ]
    },
    {
     "name": "stdout",
     "output_type": "stream",
     "text": [
      "Model: \"sequential\"\n",
      "_________________________________________________________________\n",
      "Layer (type)                 Output Shape              Param #   \n",
      "=================================================================\n",
      "embedding (Embedding)        (None, None, 32)          320000    \n",
      "_________________________________________________________________\n",
      "simple_rnn (SimpleRNN)       (None, 32)                2080      \n",
      "=================================================================\n",
      "Total params: 322,080\n",
      "Trainable params: 322,080\n",
      "Non-trainable params: 0\n",
      "_________________________________________________________________\n"
     ]
    }
   ],
   "source": [
    "model = models.Sequential()\n",
    "model.add(layers.Embedding(10000, 32))\n",
    "model.add(layers.SimpleRNN(32)) #return_sequences預設為False\n",
    "model.summary()"
   ]
  },
  {
   "cell_type": "code",
   "execution_count": 4,
   "id": "38dd812e",
   "metadata": {
    "execution": {
     "iopub.execute_input": "2022-08-24T13:17:41.640527Z",
     "iopub.status.busy": "2022-08-24T13:17:41.640103Z",
     "iopub.status.idle": "2022-08-24T13:17:41.713603Z",
     "shell.execute_reply": "2022-08-24T13:17:41.712057Z"
    },
    "papermill": {
     "duration": 0.081681,
     "end_time": "2022-08-24T13:17:41.716364",
     "exception": false,
     "start_time": "2022-08-24T13:17:41.634683",
     "status": "completed"
    },
    "tags": []
   },
   "outputs": [
    {
     "name": "stdout",
     "output_type": "stream",
     "text": [
      "Model: \"sequential_1\"\n",
      "_________________________________________________________________\n",
      "Layer (type)                 Output Shape              Param #   \n",
      "=================================================================\n",
      "embedding_1 (Embedding)      (None, None, 32)          320000    \n",
      "_________________________________________________________________\n",
      "simple_rnn_1 (SimpleRNN)     (None, None, 32)          2080      \n",
      "=================================================================\n",
      "Total params: 322,080\n",
      "Trainable params: 322,080\n",
      "Non-trainable params: 0\n",
      "_________________________________________________________________\n"
     ]
    }
   ],
   "source": [
    "model = models.Sequential()\n",
    "model.add(layers.Embedding(10000, 32))\n",
    "model.add(layers.SimpleRNN(32, return_sequences=True))\n",
    "model.summary()"
   ]
  },
  {
   "cell_type": "code",
   "execution_count": 5,
   "id": "d2a63ecf",
   "metadata": {
    "execution": {
     "iopub.execute_input": "2022-08-24T13:17:41.726075Z",
     "iopub.status.busy": "2022-08-24T13:17:41.725639Z",
     "iopub.status.idle": "2022-08-24T13:17:41.954982Z",
     "shell.execute_reply": "2022-08-24T13:17:41.953469Z"
    },
    "papermill": {
     "duration": 0.237101,
     "end_time": "2022-08-24T13:17:41.957428",
     "exception": false,
     "start_time": "2022-08-24T13:17:41.720327",
     "status": "completed"
    },
    "tags": []
   },
   "outputs": [
    {
     "name": "stdout",
     "output_type": "stream",
     "text": [
      "Model: \"sequential_2\"\n",
      "_________________________________________________________________\n",
      "Layer (type)                 Output Shape              Param #   \n",
      "=================================================================\n",
      "embedding_2 (Embedding)      (None, None, 32)          320000    \n",
      "_________________________________________________________________\n",
      "simple_rnn_2 (SimpleRNN)     (None, None, 32)          2080      \n",
      "_________________________________________________________________\n",
      "simple_rnn_3 (SimpleRNN)     (None, None, 32)          2080      \n",
      "_________________________________________________________________\n",
      "simple_rnn_4 (SimpleRNN)     (None, None, 32)          2080      \n",
      "_________________________________________________________________\n",
      "simple_rnn_5 (SimpleRNN)     (None, 32)                2080      \n",
      "=================================================================\n",
      "Total params: 328,320\n",
      "Trainable params: 328,320\n",
      "Non-trainable params: 0\n",
      "_________________________________________________________________\n"
     ]
    }
   ],
   "source": [
    "#堆疊多個循環層可以增加神經網路的表現能力，在此設定下，需取得所有中間層的輸出以回傳完整的序列資料\n",
    "model = models.Sequential()\n",
    "model.add(layers.Embedding(10000, 32))\n",
    "#中間層需回傳完整的序列資料\n",
    "model.add(layers.SimpleRNN(32, return_sequences=True))\n",
    "model.add(layers.SimpleRNN(32, return_sequences=True))\n",
    "model.add(layers.SimpleRNN(32, return_sequences=True))\n",
    "model.add(layers.SimpleRNN(32)) #最後一層僅返回最後一個輸出\n",
    "model.summary()"
   ]
  },
  {
   "cell_type": "code",
   "execution_count": 6,
   "id": "6b29eb75",
   "metadata": {
    "execution": {
     "iopub.execute_input": "2022-08-24T13:17:41.967733Z",
     "iopub.status.busy": "2022-08-24T13:17:41.966886Z",
     "iopub.status.idle": "2022-08-24T13:17:48.682071Z",
     "shell.execute_reply": "2022-08-24T13:17:48.680191Z"
    },
    "papermill": {
     "duration": 6.724216,
     "end_time": "2022-08-24T13:17:48.685689",
     "exception": false,
     "start_time": "2022-08-24T13:17:41.961473",
     "status": "completed"
    },
    "tags": []
   },
   "outputs": [
    {
     "name": "stdout",
     "output_type": "stream",
     "text": [
      "Downloading data from https://storage.googleapis.com/tensorflow/tf-keras-datasets/imdb.npz\n",
      "17465344/17464789 [==============================] - 0s 0us/step\n",
      "17473536/17464789 [==============================] - 0s 0us/step\n",
      "train_sequences: 25000\n",
      "test_sequences: 25000\n",
      "input_train shape: (25000, 500)\n",
      "input_test shape: (25000, 500)\n"
     ]
    }
   ],
   "source": [
    "#準備IMDB資料\n",
    "from keras.datasets import imdb\n",
    "from tensorflow.keras.preprocessing import sequence\n",
    "\n",
    "max_features = 10000 #考慮做為特徵的文字數量\n",
    "maxlen = 500 #只看評論的前500個文字\n",
    "\n",
    "batch_size = 32\n",
    "\n",
    "(input_train, y_train), (input_test, y_test) = imdb.load_data(num_words=max_features)\n",
    "print('train_sequences:', len(input_train))\n",
    "print('test_sequences:', len(input_test))\n",
    "\n",
    "input_train = sequence.pad_sequences(input_train, maxlen=maxlen) #只看每篇評論前500個字，多的去除，不足填補0\n",
    "input_test = sequence.pad_sequences(input_test, maxlen=maxlen)\n",
    "print('input_train shape:', input_train.shape)\n",
    "print('input_test shape:', input_test.shape)"
   ]
  },
  {
   "cell_type": "code",
   "execution_count": 7,
   "id": "dc9301bb",
   "metadata": {
    "execution": {
     "iopub.execute_input": "2022-08-24T13:17:48.697945Z",
     "iopub.status.busy": "2022-08-24T13:17:48.697548Z",
     "iopub.status.idle": "2022-08-24T13:17:48.777703Z",
     "shell.execute_reply": "2022-08-24T13:17:48.776332Z"
    },
    "papermill": {
     "duration": 0.089398,
     "end_time": "2022-08-24T13:17:48.780733",
     "exception": false,
     "start_time": "2022-08-24T13:17:48.691335",
     "status": "completed"
    },
    "tags": []
   },
   "outputs": [],
   "source": [
    "#以嵌入向量Embedding層和SimpleRNN層訓練模型\n",
    "model = models.Sequential()\n",
    "model.add(layers.Embedding(max_features, 32))\n",
    "model.add(layers.SimpleRNN(32))\n",
    "model.add(layers.Dense(1, activation='sigmoid'))"
   ]
  },
  {
   "cell_type": "code",
   "execution_count": 8,
   "id": "2cc5ee5c",
   "metadata": {
    "execution": {
     "iopub.execute_input": "2022-08-24T13:17:48.792757Z",
     "iopub.status.busy": "2022-08-24T13:17:48.792213Z",
     "iopub.status.idle": "2022-08-24T13:17:48.811642Z",
     "shell.execute_reply": "2022-08-24T13:17:48.810017Z"
    },
    "papermill": {
     "duration": 0.028954,
     "end_time": "2022-08-24T13:17:48.814618",
     "exception": false,
     "start_time": "2022-08-24T13:17:48.785664",
     "status": "completed"
    },
    "tags": []
   },
   "outputs": [],
   "source": [
    "model.compile(optimizer='rmsprop',\n",
    "             loss='binary_crossentropy',\n",
    "             metrics=['acc'])"
   ]
  },
  {
   "cell_type": "code",
   "execution_count": 9,
   "id": "ff65cf8f",
   "metadata": {
    "execution": {
     "iopub.execute_input": "2022-08-24T13:17:48.827672Z",
     "iopub.status.busy": "2022-08-24T13:17:48.826408Z",
     "iopub.status.idle": "2022-08-24T13:29:59.740396Z",
     "shell.execute_reply": "2022-08-24T13:29:59.738583Z"
    },
    "papermill": {
     "duration": 730.924205,
     "end_time": "2022-08-24T13:29:59.743496",
     "exception": false,
     "start_time": "2022-08-24T13:17:48.819291",
     "status": "completed"
    },
    "tags": []
   },
   "outputs": [
    {
     "name": "stderr",
     "output_type": "stream",
     "text": [
      "2022-08-24 13:17:48.934999: I tensorflow/compiler/mlir/mlir_graph_optimization_pass.cc:185] None of the MLIR Optimization Passes are enabled (registered 2)\n"
     ]
    },
    {
     "name": "stdout",
     "output_type": "stream",
     "text": [
      "Epoch 1/10\n",
      "157/157 [==============================] - 81s 502ms/step - loss: 0.6615 - acc: 0.5914 - val_loss: 0.5862 - val_acc: 0.7032\n",
      "Epoch 2/10\n",
      "157/157 [==============================] - 86s 548ms/step - loss: 0.4228 - acc: 0.8167 - val_loss: 0.4955 - val_acc: 0.7590\n",
      "Epoch 3/10\n",
      "157/157 [==============================] - 80s 506ms/step - loss: 0.3027 - acc: 0.8819 - val_loss: 0.4419 - val_acc: 0.7948\n",
      "Epoch 4/10\n",
      "157/157 [==============================] - 73s 466ms/step - loss: 0.2237 - acc: 0.9151 - val_loss: 0.4483 - val_acc: 0.8090\n",
      "Epoch 5/10\n",
      "157/157 [==============================] - 69s 439ms/step - loss: 0.1577 - acc: 0.9433 - val_loss: 0.4943 - val_acc: 0.7858\n",
      "Epoch 6/10\n",
      "157/157 [==============================] - 72s 461ms/step - loss: 0.1082 - acc: 0.9634 - val_loss: 0.4448 - val_acc: 0.8358\n",
      "Epoch 7/10\n",
      "157/157 [==============================] - 69s 440ms/step - loss: 0.0711 - acc: 0.9772 - val_loss: 0.6447 - val_acc: 0.7934\n",
      "Epoch 8/10\n",
      "157/157 [==============================] - 67s 430ms/step - loss: 0.0457 - acc: 0.9863 - val_loss: 0.5089 - val_acc: 0.8494\n",
      "Epoch 9/10\n",
      "157/157 [==============================] - 65s 415ms/step - loss: 0.0276 - acc: 0.9916 - val_loss: 0.6481 - val_acc: 0.8096\n",
      "Epoch 10/10\n",
      "157/157 [==============================] - 69s 438ms/step - loss: 0.0175 - acc: 0.9949 - val_loss: 0.6404 - val_acc: 0.8266\n"
     ]
    }
   ],
   "source": [
    "history = model.fit(input_train, y_train,\n",
    "                   epochs=10,\n",
    "                   batch_size=128,\n",
    "                   validation_split=0.2)"
   ]
  },
  {
   "cell_type": "code",
   "execution_count": 10,
   "id": "1ac2c194",
   "metadata": {
    "execution": {
     "iopub.execute_input": "2022-08-24T13:29:59.957174Z",
     "iopub.status.busy": "2022-08-24T13:29:59.956371Z",
     "iopub.status.idle": "2022-08-24T13:30:00.429857Z",
     "shell.execute_reply": "2022-08-24T13:30:00.428028Z"
    },
    "papermill": {
     "duration": 0.586873,
     "end_time": "2022-08-24T13:30:00.432865",
     "exception": false,
     "start_time": "2022-08-24T13:29:59.845992",
     "status": "completed"
    },
    "tags": []
   },
   "outputs": [
    {
     "data": {
      "image/png": "[encoded data removed]",
      "text/plain": [
       "<Figure size 432x288 with 1 Axes>"
      ]
     },
     "metadata": {
      "needs_background": "light"
     },
     "output_type": "display_data"
    },
    {
     "data": {
      "image/png": "[encoded data removed]",
      "text/plain": [
       "<Figure size 432x288 with 1 Axes>"
      ]
     },
     "metadata": {
      "needs_background": "light"
     },
     "output_type": "display_data"
    }
   ],
   "source": [
    "#繪製結果\n",
    "import matplotlib.pyplot as plt\n",
    "\n",
    "acc = history.history['acc']\n",
    "val_acc = history.history['val_acc']\n",
    "loss = history.history['loss']\n",
    "val_loss = history.history['val_loss']\n",
    "\n",
    "epochs = range(1, len(acc) + 1)\n",
    "\n",
    "plt.plot(epochs, acc, 'bo', label='Training acc')\n",
    "plt.plot(epochs, val_acc, 'b', label='Validation acc')\n",
    "plt.title('Training and validation accuracy')\n",
    "plt.legend()\n",
    "\n",
    "plt.figure()\n",
    "\n",
    "plt.plot(epochs, loss, 'bo', label='Training loss')\n",
    "plt.plot(epochs, val_loss, 'b', label='Validation loss')\n",
    "plt.title('Training and validation loss')\n",
    "plt.legend()\n",
    "\n",
    "plt.show()"
   ]
  },
  {
   "cell_type": "code",
   "execution_count": 11,
   "id": "7b2f8ba0",
   "metadata": {
    "execution": {
     "iopub.execute_input": "2022-08-24T13:30:00.647926Z",
     "iopub.status.busy": "2022-08-24T13:30:00.647057Z",
     "iopub.status.idle": "2022-08-24T13:30:00.652744Z",
     "shell.execute_reply": "2022-08-24T13:30:00.651526Z"
    },
    "papermill": {
     "duration": 0.117011,
     "end_time": "2022-08-24T13:30:00.655369",
     "exception": false,
     "start_time": "2022-08-24T13:30:00.538358",
     "status": "completed"
    },
    "tags": []
   },
   "outputs": [],
   "source": [
    "#之前使用全連接方法(密集連接層)，測試準確度達到88%，與此相比這種小型循環神經網路表現不佳，驗證精準度僅達85%\n",
    "#部分問題是僅使用輸入資料前500個文字，而不是完整序列資料，因此RNN較先前模型取得更少資訊\n",
    "#另一問題為SimpleRNN不擅長處理長型序列資料，例如文字資料，因為SimpleRNN無法記憶太遠的資料"
   ]
  }
 ],
 "metadata": {
  "kernelspec": {
   "display_name": "Python 3",
   "language": "python",
   "name": "python3"
  },
  "language_info": {
   "codemirror_mode": {
    "name": "ipython",
    "version": 3
   },
   "file_extension": ".py",
   "mimetype": "text/x-python",
   "name": "python",
   "nbconvert_exporter": "python",
   "pygments_lexer": "ipython3",
   "version": "3.7.12"
  },
  "papermill": {
   "default_parameters": {},
   "duration": 761.695399,
   "end_time": "2022-08-24T13:30:04.208636",
   "environment_variables": {},
   "exception": null,
   "input_path": "__notebook__.ipynb",
   "output_path": "__notebook__.ipynb",
   "parameters": {},
   "start_time": "2022-08-24T13:17:22.513237",
   "version": "2.3.4"
  }
 },
 "nbformat": 4,
 "nbformat_minor": 5
}
