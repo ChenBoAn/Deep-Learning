{
 "cells": [
  {
   "cell_type": "code",
   "execution_count": 1,
   "id": "2f69afd1",
   "metadata": {
    "_cell_guid": "b1076dfc-b9ad-4769-8c92-a6c4dae69d19",
    "_uuid": "8f2839f25d086af736a60e9eeb907d3b93b6e0e5",
    "execution": {
     "iopub.execute_input": "2022-08-23T03:19:55.889928Z",
     "iopub.status.busy": "2022-08-23T03:19:55.889318Z",
     "iopub.status.idle": "2022-08-23T03:19:55.903791Z",
     "shell.execute_reply": "2022-08-23T03:19:55.902758Z"
    },
    "papermill": {
     "duration": 0.024923,
     "end_time": "2022-08-23T03:19:55.906346",
     "exception": false,
     "start_time": "2022-08-23T03:19:55.881423",
     "status": "completed"
    },
    "tags": []
   },
   "outputs": [],
   "source": [
    "# This Python 3 environment comes with many helpful analytics libraries installed\n",
    "# It is defined by the kaggle/python Docker image: https://github.com/kaggle/docker-python\n",
    "# For example, here's several helpful packages to load\n",
    "\n",
    "import numpy as np # linear algebra\n",
    "import pandas as pd # data processing, CSV file I/O (e.g. pd.read_csv)\n",
    "\n",
    "# Input data files are available in the read-only \"../input/\" directory\n",
    "# For example, running this (by clicking run or pressing Shift+Enter) will list all files under the input directory\n",
    "\n",
    "import os\n",
    "for dirname, _, filenames in os.walk('/kaggle/input'):\n",
    "    for filename in filenames:\n",
    "        print(os.path.join(dirname, filename))\n",
    "\n",
    "# You can write up to 20GB to the current directory (/kaggle/working/) that gets preserved as output when you create a version using \"Save & Run All\" \n",
    "# You can also write temporary files to /kaggle/temp/, but they won't be saved outside of the current session"
   ]
  },
  {
   "cell_type": "code",
   "execution_count": 2,
   "id": "27e72257",
   "metadata": {
    "execution": {
     "iopub.execute_input": "2022-08-23T03:19:55.916094Z",
     "iopub.status.busy": "2022-08-23T03:19:55.915440Z",
     "iopub.status.idle": "2022-08-23T03:19:55.919381Z",
     "shell.execute_reply": "2022-08-23T03:19:55.918622Z"
    },
    "papermill": {
     "duration": 0.010886,
     "end_time": "2022-08-23T03:19:55.921399",
     "exception": false,
     "start_time": "2022-08-23T03:19:55.910513",
     "status": "completed"
    },
    "tags": []
   },
   "outputs": [],
   "source": [
    "#文字嵌入法(word embeddings) 又稱 密集文字向量(dense word vector)\n",
    "#one-hot encoding 向量: 稀疏、高維度、強制編碼\n",
    "#word embeddings 向量: 密集、低維度、從資料中學習\n",
    "#建立文字嵌入向量: 1.訓練模型時(ex: 文檔分類、情感預測)，使用Embedding layer同時學習文字嵌入向量。此方法與學習神經網路權重的方式相同。\n",
    "#               2.用其他機器學習模型以計算(訓練好)的文字嵌入向量。此方式稱為\"預先訓練的文字嵌入法(pretrained word embeddings)\""
   ]
  },
  {
   "cell_type": "code",
   "execution_count": 3,
   "id": "ccfbf806",
   "metadata": {
    "execution": {
     "iopub.execute_input": "2022-08-23T03:19:55.930672Z",
     "iopub.status.busy": "2022-08-23T03:19:55.930242Z",
     "iopub.status.idle": "2022-08-23T03:20:02.917716Z",
     "shell.execute_reply": "2022-08-23T03:20:02.916363Z"
    },
    "papermill": {
     "duration": 6.995747,
     "end_time": "2022-08-23T03:20:02.920928",
     "exception": false,
     "start_time": "2022-08-23T03:19:55.925181",
     "status": "completed"
    },
    "tags": []
   },
   "outputs": [],
   "source": [
    "#用Keras的Embedding Layer時做文字嵌入法\n",
    "from tensorflow import keras\n",
    "from tensorflow.keras import layers, models"
   ]
  },
  {
   "cell_type": "code",
   "execution_count": 4,
   "id": "c3954390",
   "metadata": {
    "execution": {
     "iopub.execute_input": "2022-08-23T03:20:02.931989Z",
     "iopub.status.busy": "2022-08-23T03:20:02.930843Z",
     "iopub.status.idle": "2022-08-23T03:20:02.962923Z",
     "shell.execute_reply": "2022-08-23T03:20:02.961632Z"
    },
    "papermill": {
     "duration": 0.040657,
     "end_time": "2022-08-23T03:20:02.965615",
     "exception": false,
     "start_time": "2022-08-23T03:20:02.924958",
     "status": "completed"
    },
    "tags": []
   },
   "outputs": [],
   "source": [
    "#建立嵌入層(Embedding Layer)\n",
    "embedding_layer = layers.Embedding(1000, 64) #tokens數(1+最大單字數)， 輸出的嵌入向量維數"
   ]
  },
  {
   "cell_type": "code",
   "execution_count": 5,
   "id": "7bce64ad",
   "metadata": {
    "execution": {
     "iopub.execute_input": "2022-08-23T03:20:02.976013Z",
     "iopub.status.busy": "2022-08-23T03:20:02.975313Z",
     "iopub.status.idle": "2022-08-23T03:20:02.979520Z",
     "shell.execute_reply": "2022-08-23T03:20:02.978654Z"
    },
    "papermill": {
     "duration": 0.012015,
     "end_time": "2022-08-23T03:20:02.981699",
     "exception": false,
     "start_time": "2022-08-23T03:20:02.969684",
     "status": "completed"
    },
    "tags": []
   },
   "outputs": [],
   "source": [
    "#載入IMDB，並整理成適合供Embedding層使用的資料\n",
    "from keras.datasets import imdb\n",
    "from tensorflow.keras import preprocessing"
   ]
  },
  {
   "cell_type": "code",
   "execution_count": 6,
   "id": "878a7873",
   "metadata": {
    "execution": {
     "iopub.execute_input": "2022-08-23T03:20:02.991461Z",
     "iopub.status.busy": "2022-08-23T03:20:02.990690Z",
     "iopub.status.idle": "2022-08-23T03:20:09.433938Z",
     "shell.execute_reply": "2022-08-23T03:20:09.432801Z"
    },
    "papermill": {
     "duration": 6.451494,
     "end_time": "2022-08-23T03:20:09.436929",
     "exception": false,
     "start_time": "2022-08-23T03:20:02.985435",
     "status": "completed"
    },
    "tags": []
   },
   "outputs": [
    {
     "name": "stdout",
     "output_type": "stream",
     "text": [
      "Downloading data from https://storage.googleapis.com/tensorflow/tf-keras-datasets/imdb.npz\n",
      "17465344/17464789 [==============================] - 0s 0us/step\n",
      "17473536/17464789 [==============================] - 0s 0us/step\n",
      "(25000,)\n",
      "(25000, 20)\n",
      "[  65   16   38 1334   88   12   16  283    5   16 4472  113  103   32\n",
      "   15   16 5345   19  178   32]\n"
     ]
    }
   ],
   "source": [
    "max_features = 10000 #設定作為特徵的最常用文字數量\n",
    "maxlen = 20 #只用每篇文章最後面的20個字(需在max_feature最常用文字中)\n",
    "(x_train, y_train), (x_test, y_test) = imdb.load_data(num_words=max_features) #將文字評論資料以整數(鍵值)list載入\n",
    "print(x_train.shape) #shape=(25000,)即25000筆評論，每筆評論都是一個樣本\n",
    "x_train = preprocessing.sequence.pad_sequences(x_train, maxlen=maxlen) #將list轉換為2D整數張量，shape為(samples 樣本數, maxlen 最大長度)\n",
    "print(x_train.shape) #shape=(25000, 20)代表只看每筆資料的後20個字\n",
    "\n",
    "print(x_train[0])\n",
    "\n",
    "x_test = preprocessing.sequence.pad_sequences(x_test, maxlen=maxlen)"
   ]
  },
  {
   "cell_type": "code",
   "execution_count": 7,
   "id": "74bb77c5",
   "metadata": {
    "execution": {
     "iopub.execute_input": "2022-08-23T03:20:09.448906Z",
     "iopub.status.busy": "2022-08-23T03:20:09.447174Z",
     "iopub.status.idle": "2022-08-23T03:20:09.550715Z",
     "shell.execute_reply": "2022-08-23T03:20:09.548837Z"
    },
    "papermill": {
     "duration": 0.112157,
     "end_time": "2022-08-23T03:20:09.553626",
     "exception": false,
     "start_time": "2022-08-23T03:20:09.441469",
     "status": "completed"
    },
    "tags": []
   },
   "outputs": [
    {
     "name": "stderr",
     "output_type": "stream",
     "text": [
      "2022-08-23 03:20:09.465168: I tensorflow/core/common_runtime/process_util.cc:146] Creating new thread pool with default inter op setting: 2. Tune using inter_op_parallelism_threads for best performance.\n"
     ]
    }
   ],
   "source": [
    "#訓練模型，用Embedding layer學習文字嵌入向量\n",
    "model = models.Sequential()\n",
    "model.add(layers.Embedding(10000, 8, input_length=maxlen)) #指定嵌入向量層的最大輸入長度，以便之後展平嵌入向量。\n",
    "                                                           #輸出的嵌入向量shape=(smaples,20,8)，8為嵌入向量之維度。\n",
    "model.add(layers.Flatten()) #將嵌入向量的3D向量展平為2D張量，輸出向量shape=(samples,20*8)\n",
    "model.add(layers.Dense(1, activation='sigmoid')) #加上二元分類氣，輸出向量shape=(samples, 1)"
   ]
  },
  {
   "cell_type": "code",
   "execution_count": 8,
   "id": "77c2efcf",
   "metadata": {
    "execution": {
     "iopub.execute_input": "2022-08-23T03:20:09.564771Z",
     "iopub.status.busy": "2022-08-23T03:20:09.563995Z",
     "iopub.status.idle": "2022-08-23T03:20:09.578564Z",
     "shell.execute_reply": "2022-08-23T03:20:09.577722Z"
    },
    "papermill": {
     "duration": 0.023049,
     "end_time": "2022-08-23T03:20:09.581051",
     "exception": false,
     "start_time": "2022-08-23T03:20:09.558002",
     "status": "completed"
    },
    "tags": []
   },
   "outputs": [],
   "source": [
    "model.compile(optimizer='rmsprop',\n",
    "             loss='binary_crossentropy',\n",
    "             metrics=['acc'])"
   ]
  },
  {
   "cell_type": "code",
   "execution_count": 9,
   "id": "3a62ff27",
   "metadata": {
    "execution": {
     "iopub.execute_input": "2022-08-23T03:20:09.591477Z",
     "iopub.status.busy": "2022-08-23T03:20:09.590835Z",
     "iopub.status.idle": "2022-08-23T03:20:09.598835Z",
     "shell.execute_reply": "2022-08-23T03:20:09.597160Z"
    },
    "papermill": {
     "duration": 0.015823,
     "end_time": "2022-08-23T03:20:09.601145",
     "exception": false,
     "start_time": "2022-08-23T03:20:09.585322",
     "status": "completed"
    },
    "tags": []
   },
   "outputs": [
    {
     "name": "stdout",
     "output_type": "stream",
     "text": [
      "Model: \"sequential\"\n",
      "_________________________________________________________________\n",
      "Layer (type)                 Output Shape              Param #   \n",
      "=================================================================\n",
      "embedding_1 (Embedding)      (None, 20, 8)             80000     \n",
      "_________________________________________________________________\n",
      "flatten (Flatten)            (None, 160)               0         \n",
      "_________________________________________________________________\n",
      "dense (Dense)                (None, 1)                 161       \n",
      "=================================================================\n",
      "Total params: 80,161\n",
      "Trainable params: 80,161\n",
      "Non-trainable params: 0\n",
      "_________________________________________________________________\n"
     ]
    }
   ],
   "source": [
    "model.summary()"
   ]
  },
  {
   "cell_type": "code",
   "execution_count": 10,
   "id": "ba70ff0f",
   "metadata": {
    "execution": {
     "iopub.execute_input": "2022-08-23T03:20:09.612272Z",
     "iopub.status.busy": "2022-08-23T03:20:09.611119Z",
     "iopub.status.idle": "2022-08-23T03:20:20.243970Z",
     "shell.execute_reply": "2022-08-23T03:20:20.242441Z"
    },
    "papermill": {
     "duration": 10.641105,
     "end_time": "2022-08-23T03:20:20.246688",
     "exception": false,
     "start_time": "2022-08-23T03:20:09.605583",
     "status": "completed"
    },
    "tags": []
   },
   "outputs": [
    {
     "name": "stdout",
     "output_type": "stream",
     "text": [
      "Epoch 1/10\n"
     ]
    },
    {
     "name": "stderr",
     "output_type": "stream",
     "text": [
      "2022-08-23 03:20:09.686295: I tensorflow/compiler/mlir/mlir_graph_optimization_pass.cc:185] None of the MLIR Optimization Passes are enabled (registered 2)\n"
     ]
    },
    {
     "name": "stdout",
     "output_type": "stream",
     "text": [
      "625/625 [==============================] - 2s 2ms/step - loss: 0.6690 - acc: 0.6159 - val_loss: 0.6164 - val_acc: 0.6950\n",
      "Epoch 2/10\n",
      "625/625 [==============================] - 1s 2ms/step - loss: 0.5418 - acc: 0.7455 - val_loss: 0.5261 - val_acc: 0.7312\n",
      "Epoch 3/10\n",
      "625/625 [==============================] - 1s 2ms/step - loss: 0.4636 - acc: 0.7854 - val_loss: 0.5017 - val_acc: 0.7434\n",
      "Epoch 4/10\n",
      "625/625 [==============================] - 1s 2ms/step - loss: 0.4244 - acc: 0.8052 - val_loss: 0.4949 - val_acc: 0.7492\n",
      "Epoch 5/10\n",
      "625/625 [==============================] - 1s 1ms/step - loss: 0.3968 - acc: 0.8217 - val_loss: 0.4950 - val_acc: 0.7528\n",
      "Epoch 6/10\n",
      "625/625 [==============================] - 1s 2ms/step - loss: 0.3742 - acc: 0.8345 - val_loss: 0.4988 - val_acc: 0.7544\n",
      "Epoch 7/10\n",
      "625/625 [==============================] - 1s 1ms/step - loss: 0.3536 - acc: 0.8468 - val_loss: 0.5042 - val_acc: 0.7518\n",
      "Epoch 8/10\n",
      "625/625 [==============================] - 1s 2ms/step - loss: 0.3348 - acc: 0.8562 - val_loss: 0.5096 - val_acc: 0.7534\n",
      "Epoch 9/10\n",
      "625/625 [==============================] - 1s 2ms/step - loss: 0.3168 - acc: 0.8666 - val_loss: 0.5199 - val_acc: 0.7494\n",
      "Epoch 10/10\n",
      "625/625 [==============================] - 1s 2ms/step - loss: 0.2992 - acc: 0.8766 - val_loss: 0.5259 - val_acc: 0.7506\n"
     ]
    }
   ],
   "source": [
    "histiry = model.fit(x_train, y_train,\n",
    "                   epochs=10,\n",
    "                   batch_size=32,\n",
    "                   validation_split=0.2)"
   ]
  },
  {
   "cell_type": "code",
   "execution_count": 11,
   "id": "4f9e9352",
   "metadata": {
    "execution": {
     "iopub.execute_input": "2022-08-23T03:20:20.279755Z",
     "iopub.status.busy": "2022-08-23T03:20:20.279319Z",
     "iopub.status.idle": "2022-08-23T03:20:20.283945Z",
     "shell.execute_reply": "2022-08-23T03:20:20.283128Z"
    },
    "papermill": {
     "duration": 0.023054,
     "end_time": "2022-08-23T03:20:20.285946",
     "exception": false,
     "start_time": "2022-08-23T03:20:20.262892",
     "status": "completed"
    },
    "tags": []
   },
   "outputs": [],
   "source": [
    "#僅展平嵌入向量的序列資料，並在頂部訓練單個密集層會導致模型分別處理輸入序列資料(評論)中的每個文字，而未考慮文字關係與句子結構。\n",
    "#因此需在嵌入向量序列資料頂部加上循環層或1D卷積層，以學習將每個序列資料做為一個整體考慮在內的特徵。"
   ]
  },
  {
   "cell_type": "code",
   "execution_count": 12,
   "id": "0879aa56",
   "metadata": {
    "execution": {
     "iopub.execute_input": "2022-08-23T03:20:20.318409Z",
     "iopub.status.busy": "2022-08-23T03:20:20.317770Z",
     "iopub.status.idle": "2022-08-23T03:20:20.321523Z",
     "shell.execute_reply": "2022-08-23T03:20:20.320775Z"
    },
    "papermill": {
     "duration": 0.022891,
     "end_time": "2022-08-23T03:20:20.323687",
     "exception": false,
     "start_time": "2022-08-23T03:20:20.300796",
     "status": "completed"
    },
    "tags": []
   },
   "outputs": [],
   "source": [
    "#使用預先訓練的文字嵌入向量(Pretrained word embeddings)\n",
    "#當資料不足時，可使用預先訓練的文字嵌入向量，但其需具備涵蓋語言結構的普遍特性\n",
    "#無足夠資料用於學習真正的特徵時，拿通用的特徵來使用\n",
    "#ex: Word2vee 演算法, GloVe 全域向量文字表示法"
   ]
  }
 ],
 "metadata": {
  "kernelspec": {
   "display_name": "Python 3",
   "language": "python",
   "name": "python3"
  },
  "language_info": {
   "codemirror_mode": {
    "name": "ipython",
    "version": 3
   },
   "file_extension": ".py",
   "mimetype": "text/x-python",
   "name": "python",
   "nbconvert_exporter": "python",
   "pygments_lexer": "ipython3",
   "version": "3.7.12"
  },
  "papermill": {
   "default_parameters": {},
   "duration": 37.148122,
   "end_time": "2022-08-23T03:20:23.788342",
   "environment_variables": {},
   "exception": null,
   "input_path": "__notebook__.ipynb",
   "output_path": "__notebook__.ipynb",
   "parameters": {},
   "start_time": "2022-08-23T03:19:46.640220",
   "version": "2.3.4"
  }
 },
 "nbformat": 4,
 "nbformat_minor": 5
}
